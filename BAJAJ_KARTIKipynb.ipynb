{
  "nbformat": 4,
  "nbformat_minor": 0,
  "metadata": {
    "colab": {
      "provenance": []
    },
    "kernelspec": {
      "name": "python3",
      "display_name": "Python 3"
    },
    "language_info": {
      "name": "python"
    }
  },
  "cells": [
    {
      "cell_type": "code",
      "source": [
        "from google.colab import drive\n",
        "drive.mount('/content/drive')"
      ],
      "metadata": {
        "colab": {
          "base_uri": "https://localhost:8080/"
        },
        "id": "TLlWIlwvO8Cs",
        "outputId": "16c9d2aa-0ff4-4d26-fe60-a5141d2022de"
      },
      "execution_count": null,
      "outputs": [
        {
          "output_type": "stream",
          "name": "stdout",
          "text": [
            "Mounted at /content/drive\n"
          ]
        }
      ]
    },
    {
      "cell_type": "code",
      "source": [
        "import pandas as pd"
      ],
      "metadata": {
        "id": "pvkNP6vFO8_3"
      },
      "execution_count": null,
      "outputs": []
    },
    {
      "cell_type": "code",
      "source": [
        "df = pd.read_json('/content/drive/MyDrive/Colab Notebooks/DataEngineeringQ2.json')\n",
        "df.head()"
      ],
      "metadata": {
        "colab": {
          "base_uri": "https://localhost:8080/",
          "height": 661
        },
        "id": "hb21twnIPFQW",
        "outputId": "64499209-a872-4577-e745-cc92e887bb05"
      },
      "execution_count": null,
      "outputs": [
        {
          "output_type": "execute_result",
          "data": {
            "text/plain": [
              "        _id appointmentId                                     patientDetails  \\\n",
              "0  T6hf3rb5     40d2-9c9f  {'_id': 'T6hb630b3', 'firstName': 'Css', 'last...   \n",
              "1  T65g3rb5      40dbtc9f  {'_id': 'T6h33b300', 'firstName': 'Lokesh', 'l...   \n",
              "2  T7g6Srb5      g3Wt5c9f  {'_id': 'TjhB4373', 'phrId': '63b5hvy614d5', '...   \n",
              "3  94bg8W8d      fb6-a535  {'_id': '6df4R5b', 'phrId': '644nig7y', 'first...   \n",
              "4  T6h8H56c       67h7KL9  {'_id': 'lK9hy06a', 'firstName': 'Raghu Viju',...   \n",
              "\n",
              "   phoneNumber                                   consultationData  \n",
              "0  96686896670  {'adviceTemplates': [], 'advices': [], 'attach...  \n",
              "1   9496368916  {'adviceTemplates': [], 'advices': [], 'attach...  \n",
              "2   7787204833  {'adviceTemplates': [], 'advices': [], 'attach...  \n",
              "3   9376756879  {'adviceTemplates': [], 'advices': [], 'attach...  \n",
              "4   5267384241  {'adviceTemplates': [], 'advices': [], 'attach...  "
            ],
            "text/html": [
              "\n",
              "  <div id=\"df-6e1bcf59-417f-4e18-803b-611559c821cf\" class=\"colab-df-container\">\n",
              "    <div>\n",
              "<style scoped>\n",
              "    .dataframe tbody tr th:only-of-type {\n",
              "        vertical-align: middle;\n",
              "    }\n",
              "\n",
              "    .dataframe tbody tr th {\n",
              "        vertical-align: top;\n",
              "    }\n",
              "\n",
              "    .dataframe thead th {\n",
              "        text-align: right;\n",
              "    }\n",
              "</style>\n",
              "<table border=\"1\" class=\"dataframe\">\n",
              "  <thead>\n",
              "    <tr style=\"text-align: right;\">\n",
              "      <th></th>\n",
              "      <th>_id</th>\n",
              "      <th>appointmentId</th>\n",
              "      <th>patientDetails</th>\n",
              "      <th>phoneNumber</th>\n",
              "      <th>consultationData</th>\n",
              "    </tr>\n",
              "  </thead>\n",
              "  <tbody>\n",
              "    <tr>\n",
              "      <th>0</th>\n",
              "      <td>T6hf3rb5</td>\n",
              "      <td>40d2-9c9f</td>\n",
              "      <td>{'_id': 'T6hb630b3', 'firstName': 'Css', 'last...</td>\n",
              "      <td>96686896670</td>\n",
              "      <td>{'adviceTemplates': [], 'advices': [], 'attach...</td>\n",
              "    </tr>\n",
              "    <tr>\n",
              "      <th>1</th>\n",
              "      <td>T65g3rb5</td>\n",
              "      <td>40dbtc9f</td>\n",
              "      <td>{'_id': 'T6h33b300', 'firstName': 'Lokesh', 'l...</td>\n",
              "      <td>9496368916</td>\n",
              "      <td>{'adviceTemplates': [], 'advices': [], 'attach...</td>\n",
              "    </tr>\n",
              "    <tr>\n",
              "      <th>2</th>\n",
              "      <td>T7g6Srb5</td>\n",
              "      <td>g3Wt5c9f</td>\n",
              "      <td>{'_id': 'TjhB4373', 'phrId': '63b5hvy614d5', '...</td>\n",
              "      <td>7787204833</td>\n",
              "      <td>{'adviceTemplates': [], 'advices': [], 'attach...</td>\n",
              "    </tr>\n",
              "    <tr>\n",
              "      <th>3</th>\n",
              "      <td>94bg8W8d</td>\n",
              "      <td>fb6-a535</td>\n",
              "      <td>{'_id': '6df4R5b', 'phrId': '644nig7y', 'first...</td>\n",
              "      <td>9376756879</td>\n",
              "      <td>{'adviceTemplates': [], 'advices': [], 'attach...</td>\n",
              "    </tr>\n",
              "    <tr>\n",
              "      <th>4</th>\n",
              "      <td>T6h8H56c</td>\n",
              "      <td>67h7KL9</td>\n",
              "      <td>{'_id': 'lK9hy06a', 'firstName': 'Raghu Viju',...</td>\n",
              "      <td>5267384241</td>\n",
              "      <td>{'adviceTemplates': [], 'advices': [], 'attach...</td>\n",
              "    </tr>\n",
              "  </tbody>\n",
              "</table>\n",
              "</div>\n",
              "    <div class=\"colab-df-buttons\">\n",
              "\n",
              "  <div class=\"colab-df-container\">\n",
              "    <button class=\"colab-df-convert\" onclick=\"convertToInteractive('df-6e1bcf59-417f-4e18-803b-611559c821cf')\"\n",
              "            title=\"Convert this dataframe to an interactive table.\"\n",
              "            style=\"display:none;\">\n",
              "\n",
              "  <svg xmlns=\"http://www.w3.org/2000/svg\" height=\"24px\" viewBox=\"0 -960 960 960\">\n",
              "    <path d=\"M120-120v-720h720v720H120Zm60-500h600v-160H180v160Zm220 220h160v-160H400v160Zm0 220h160v-160H400v160ZM180-400h160v-160H180v160Zm440 0h160v-160H620v160ZM180-180h160v-160H180v160Zm440 0h160v-160H620v160Z\"/>\n",
              "  </svg>\n",
              "    </button>\n",
              "\n",
              "  <style>\n",
              "    .colab-df-container {\n",
              "      display:flex;\n",
              "      gap: 12px;\n",
              "    }\n",
              "\n",
              "    .colab-df-convert {\n",
              "      background-color: #E8F0FE;\n",
              "      border: none;\n",
              "      border-radius: 50%;\n",
              "      cursor: pointer;\n",
              "      display: none;\n",
              "      fill: #1967D2;\n",
              "      height: 32px;\n",
              "      padding: 0 0 0 0;\n",
              "      width: 32px;\n",
              "    }\n",
              "\n",
              "    .colab-df-convert:hover {\n",
              "      background-color: #E2EBFA;\n",
              "      box-shadow: 0px 1px 2px rgba(60, 64, 67, 0.3), 0px 1px 3px 1px rgba(60, 64, 67, 0.15);\n",
              "      fill: #174EA6;\n",
              "    }\n",
              "\n",
              "    .colab-df-buttons div {\n",
              "      margin-bottom: 4px;\n",
              "    }\n",
              "\n",
              "    [theme=dark] .colab-df-convert {\n",
              "      background-color: #3B4455;\n",
              "      fill: #D2E3FC;\n",
              "    }\n",
              "\n",
              "    [theme=dark] .colab-df-convert:hover {\n",
              "      background-color: #434B5C;\n",
              "      box-shadow: 0px 1px 3px 1px rgba(0, 0, 0, 0.15);\n",
              "      filter: drop-shadow(0px 1px 2px rgba(0, 0, 0, 0.3));\n",
              "      fill: #FFFFFF;\n",
              "    }\n",
              "  </style>\n",
              "\n",
              "    <script>\n",
              "      const buttonEl =\n",
              "        document.querySelector('#df-6e1bcf59-417f-4e18-803b-611559c821cf button.colab-df-convert');\n",
              "      buttonEl.style.display =\n",
              "        google.colab.kernel.accessAllowed ? 'block' : 'none';\n",
              "\n",
              "      async function convertToInteractive(key) {\n",
              "        const element = document.querySelector('#df-6e1bcf59-417f-4e18-803b-611559c821cf');\n",
              "        const dataTable =\n",
              "          await google.colab.kernel.invokeFunction('convertToInteractive',\n",
              "                                                    [key], {});\n",
              "        if (!dataTable) return;\n",
              "\n",
              "        const docLinkHtml = 'Like what you see? Visit the ' +\n",
              "          '<a target=\"_blank\" href=https://colab.research.google.com/notebooks/data_table.ipynb>data table notebook</a>'\n",
              "          + ' to learn more about interactive tables.';\n",
              "        element.innerHTML = '';\n",
              "        dataTable['output_type'] = 'display_data';\n",
              "        await google.colab.output.renderOutput(dataTable, element);\n",
              "        const docLink = document.createElement('div');\n",
              "        docLink.innerHTML = docLinkHtml;\n",
              "        element.appendChild(docLink);\n",
              "      }\n",
              "    </script>\n",
              "  </div>\n",
              "\n",
              "\n",
              "<div id=\"df-71394dca-27b5-4469-abd1-806d5ec9c302\">\n",
              "  <button class=\"colab-df-quickchart\" onclick=\"quickchart('df-71394dca-27b5-4469-abd1-806d5ec9c302')\"\n",
              "            title=\"Suggest charts\"\n",
              "            style=\"display:none;\">\n",
              "\n",
              "<svg xmlns=\"http://www.w3.org/2000/svg\" height=\"24px\"viewBox=\"0 0 24 24\"\n",
              "     width=\"24px\">\n",
              "    <g>\n",
              "        <path d=\"M19 3H5c-1.1 0-2 .9-2 2v14c0 1.1.9 2 2 2h14c1.1 0 2-.9 2-2V5c0-1.1-.9-2-2-2zM9 17H7v-7h2v7zm4 0h-2V7h2v10zm4 0h-2v-4h2v4z\"/>\n",
              "    </g>\n",
              "</svg>\n",
              "  </button>\n",
              "\n",
              "<style>\n",
              "  .colab-df-quickchart {\n",
              "      --bg-color: #E8F0FE;\n",
              "      --fill-color: #1967D2;\n",
              "      --hover-bg-color: #E2EBFA;\n",
              "      --hover-fill-color: #174EA6;\n",
              "      --disabled-fill-color: #AAA;\n",
              "      --disabled-bg-color: #DDD;\n",
              "  }\n",
              "\n",
              "  [theme=dark] .colab-df-quickchart {\n",
              "      --bg-color: #3B4455;\n",
              "      --fill-color: #D2E3FC;\n",
              "      --hover-bg-color: #434B5C;\n",
              "      --hover-fill-color: #FFFFFF;\n",
              "      --disabled-bg-color: #3B4455;\n",
              "      --disabled-fill-color: #666;\n",
              "  }\n",
              "\n",
              "  .colab-df-quickchart {\n",
              "    background-color: var(--bg-color);\n",
              "    border: none;\n",
              "    border-radius: 50%;\n",
              "    cursor: pointer;\n",
              "    display: none;\n",
              "    fill: var(--fill-color);\n",
              "    height: 32px;\n",
              "    padding: 0;\n",
              "    width: 32px;\n",
              "  }\n",
              "\n",
              "  .colab-df-quickchart:hover {\n",
              "    background-color: var(--hover-bg-color);\n",
              "    box-shadow: 0 1px 2px rgba(60, 64, 67, 0.3), 0 1px 3px 1px rgba(60, 64, 67, 0.15);\n",
              "    fill: var(--button-hover-fill-color);\n",
              "  }\n",
              "\n",
              "  .colab-df-quickchart-complete:disabled,\n",
              "  .colab-df-quickchart-complete:disabled:hover {\n",
              "    background-color: var(--disabled-bg-color);\n",
              "    fill: var(--disabled-fill-color);\n",
              "    box-shadow: none;\n",
              "  }\n",
              "\n",
              "  .colab-df-spinner {\n",
              "    border: 2px solid var(--fill-color);\n",
              "    border-color: transparent;\n",
              "    border-bottom-color: var(--fill-color);\n",
              "    animation:\n",
              "      spin 1s steps(1) infinite;\n",
              "  }\n",
              "\n",
              "  @keyframes spin {\n",
              "    0% {\n",
              "      border-color: transparent;\n",
              "      border-bottom-color: var(--fill-color);\n",
              "      border-left-color: var(--fill-color);\n",
              "    }\n",
              "    20% {\n",
              "      border-color: transparent;\n",
              "      border-left-color: var(--fill-color);\n",
              "      border-top-color: var(--fill-color);\n",
              "    }\n",
              "    30% {\n",
              "      border-color: transparent;\n",
              "      border-left-color: var(--fill-color);\n",
              "      border-top-color: var(--fill-color);\n",
              "      border-right-color: var(--fill-color);\n",
              "    }\n",
              "    40% {\n",
              "      border-color: transparent;\n",
              "      border-right-color: var(--fill-color);\n",
              "      border-top-color: var(--fill-color);\n",
              "    }\n",
              "    60% {\n",
              "      border-color: transparent;\n",
              "      border-right-color: var(--fill-color);\n",
              "    }\n",
              "    80% {\n",
              "      border-color: transparent;\n",
              "      border-right-color: var(--fill-color);\n",
              "      border-bottom-color: var(--fill-color);\n",
              "    }\n",
              "    90% {\n",
              "      border-color: transparent;\n",
              "      border-bottom-color: var(--fill-color);\n",
              "    }\n",
              "  }\n",
              "</style>\n",
              "\n",
              "  <script>\n",
              "    async function quickchart(key) {\n",
              "      const quickchartButtonEl =\n",
              "        document.querySelector('#' + key + ' button');\n",
              "      quickchartButtonEl.disabled = true;  // To prevent multiple clicks.\n",
              "      quickchartButtonEl.classList.add('colab-df-spinner');\n",
              "      try {\n",
              "        const charts = await google.colab.kernel.invokeFunction(\n",
              "            'suggestCharts', [key], {});\n",
              "      } catch (error) {\n",
              "        console.error('Error during call to suggestCharts:', error);\n",
              "      }\n",
              "      quickchartButtonEl.classList.remove('colab-df-spinner');\n",
              "      quickchartButtonEl.classList.add('colab-df-quickchart-complete');\n",
              "    }\n",
              "    (() => {\n",
              "      let quickchartButtonEl =\n",
              "        document.querySelector('#df-71394dca-27b5-4469-abd1-806d5ec9c302 button');\n",
              "      quickchartButtonEl.style.display =\n",
              "        google.colab.kernel.accessAllowed ? 'block' : 'none';\n",
              "    })();\n",
              "  </script>\n",
              "</div>\n",
              "\n",
              "    </div>\n",
              "  </div>\n"
            ],
            "application/vnd.google.colaboratory.intrinsic+json": {
              "type": "dataframe",
              "variable_name": "df",
              "summary": "{\n  \"name\": \"df\",\n  \"rows\": 31,\n  \"fields\": [\n    {\n      \"column\": \"_id\",\n      \"properties\": {\n        \"dtype\": \"string\",\n        \"num_unique_values\": 31,\n        \"samples\": [\n          \"y87Ta5c7\",\n          \"T4E7Ge6\",\n          \"U9D2w6c\"\n        ],\n        \"semantic_type\": \"\",\n        \"description\": \"\"\n      }\n    },\n    {\n      \"column\": \"appointmentId\",\n      \"properties\": {\n        \"dtype\": \"string\",\n        \"num_unique_values\": 31,\n        \"samples\": [\n          \"432cT213\",\n          \"T4E3e410\",\n          \"cc86re0f\"\n        ],\n        \"semantic_type\": \"\",\n        \"description\": \"\"\n      }\n    },\n    {\n      \"column\": \"patientDetails\",\n      \"properties\": {\n        \"dtype\": \"object\",\n        \"semantic_type\": \"\",\n        \"description\": \"\"\n      }\n    },\n    {\n      \"column\": \"phoneNumber\",\n      \"properties\": {\n        \"dtype\": \"string\",\n        \"num_unique_values\": 27,\n        \"samples\": [\n          \"9987602525\",\n          \"7152684236\",\n          \"9234354366\"\n        ],\n        \"semantic_type\": \"\",\n        \"description\": \"\"\n      }\n    },\n    {\n      \"column\": \"consultationData\",\n      \"properties\": {\n        \"dtype\": \"object\",\n        \"semantic_type\": \"\",\n        \"description\": \"\"\n      }\n    }\n  ]\n}"
            }
          },
          "metadata": {},
          "execution_count": 4
        }
      ]
    },
    {
      "cell_type": "code",
      "source": [
        "import pandas as pd\n",
        "\n",
        "\n",
        "df = pd.read_json('/content/drive/MyDrive/Colab Notebooks/DataEngineeringQ2.json')\n",
        "\n",
        "df['firstName'] = df['patientDetails'].apply(lambda x: x.get('firstName', ''))\n",
        "df['lastName'] = df['patientDetails'].apply(lambda x: x.get('lastName', ''))\n",
        "df['birthDate'] = df['patientDetails'].apply(lambda x: x.get('birthDate', ''))\n",
        "\n",
        "\n",
        "def calculate_missing_percentage(series):\n",
        "    total = len(series)\n",
        "    missing = series.apply(lambda x: x in [None, '', ' ']).sum()\n",
        "    return round((missing / total) * 100, 2)\n",
        "\n",
        "\n",
        "missing_firstName = calculate_missing_percentage(df['firstName'])\n",
        "missing_lastName = calculate_missing_percentage(df['lastName'])\n",
        "missing_birthDate = calculate_missing_percentage(df['birthDate'])\n",
        "\n",
        "\n",
        "print(f\"Missing percentage for firstName: {missing_firstName}%\")\n",
        "print(f\"Missing percentage for lastName: {missing_lastName}%\")\n",
        "print(f\"Missing percentage for birthDate: {missing_birthDate}%\")\n"
      ],
      "metadata": {
        "colab": {
          "base_uri": "https://localhost:8080/"
        },
        "id": "AR1tV0SLPQZw",
        "outputId": "d0d9df7f-04de-4577-e31b-300e99ca46d8"
      },
      "execution_count": null,
      "outputs": [
        {
          "output_type": "stream",
          "name": "stdout",
          "text": [
            "Missing percentage for firstName: 0.0%\n",
            "Missing percentage for lastName: 70.97%\n",
            "Missing percentage for birthDate: 32.26%\n"
          ]
        }
      ]
    },
    {
      "cell_type": "code",
      "source": [
        "import pandas as pd\n",
        "\n",
        "\n",
        "df = pd.read_json('/content/drive/MyDrive/Colab Notebooks/DataEngineeringQ2.json')\n",
        "\n",
        "df['gender'] = df['patientDetails'].apply(lambda x: x.get('gender', ''))\n",
        "\n",
        "\n",
        "mode_gender = df['gender'][df['gender'] != ''].mode()[0]\n",
        "df['gender'] = df['gender'].apply(lambda x: mode_gender if x in [None, '', ' '] else x)\n",
        "\n",
        "\n",
        "total = len(df)\n",
        "female_count = df['gender'].apply(lambda x: x.lower() == 'f').sum()\n",
        "female_percentage = round((female_count / total) * 100, 2)\n",
        "\n",
        "print(female_percentage)\n"
      ],
      "metadata": {
        "colab": {
          "base_uri": "https://localhost:8080/"
        },
        "id": "xYMgv8kdQ4sa",
        "outputId": "42849554-8b51-463c-b392-55561200e5b8"
      },
      "execution_count": null,
      "outputs": [
        {
          "output_type": "stream",
          "name": "stdout",
          "text": [
            "32.26\n"
          ]
        }
      ]
    },
    {
      "cell_type": "code",
      "source": [
        "import pandas as pd\n",
        "from datetime import datetime\n",
        "\n",
        "def calculate_age(row):\n",
        "    patient_details = row['patientDetails']\n",
        "    if 'birthDate' in patient_details:\n",
        "        birth_date = patient_details['birthDate']\n",
        "        if birth_date:\n",
        "            birth_date = datetime.strptime(birth_date, '%Y-%m-%dT%H:%M:%S.%fZ')  # Adjust format if needed\n",
        "            today = datetime.today()\n",
        "            age = today.year - birth_date.year - ((today.month, today.day) < (birth_date.month, birth_date.day))\n",
        "            return age\n",
        "    return None\n",
        "\n",
        "\n",
        "def categorize_age(age):\n",
        "    if age is None:\n",
        "        return None\n",
        "    elif age <= 12:\n",
        "        return 'Child'\n",
        "    elif age <= 19:\n",
        "        return 'Teen'\n",
        "    elif age <= 59:\n",
        "        return 'Adult'\n",
        "    else:\n",
        "        return 'Senior'\n",
        "\n",
        "\n",
        "df['age'] = df.apply(calculate_age, axis=1)\n",
        "df['ageGroup'] = df['age'].apply(categorize_age)\n",
        "\n",
        "\n",
        "count_adults = df[df['ageGroup'] == 'Adult'].shape[0]\n",
        "\n",
        "\n",
        "print(count_adults)\n"
      ],
      "metadata": {
        "colab": {
          "base_uri": "https://localhost:8080/"
        },
        "id": "9IOHYNPMSDBv",
        "outputId": "7d75184e-8f89-4cea-f5a0-8c23aec2e5e2"
      },
      "execution_count": null,
      "outputs": [
        {
          "output_type": "stream",
          "name": "stdout",
          "text": [
            "21\n"
          ]
        }
      ]
    },
    {
      "cell_type": "code",
      "source": [
        "import pandas as pd\n",
        "import json\n",
        "\n",
        "\n",
        "\n",
        "\n",
        "def count_medicines(row):\n",
        "    consultation_data = row['consultationData']\n",
        "    if 'medicines' in consultation_data:\n",
        "        return len(consultation_data['medicines'])\n",
        "    else:\n",
        "        return 0\n",
        "\n",
        "\n",
        "df['numMedicines'] = df.apply(count_medicines, axis=1)\n",
        "\n",
        "average_medicines = df['numMedicines'].mean()\n",
        "\n",
        "\n",
        "average_medicines_rounded = round(average_medicines, 2)\n",
        "\n",
        "\n",
        "print(average_medicines_rounded)\n"
      ],
      "metadata": {
        "colab": {
          "base_uri": "https://localhost:8080/"
        },
        "id": "J4W0LTk9Urxo",
        "outputId": "77ae27f5-e6a0-49a6-95c0-9bcaa12cdf09"
      },
      "execution_count": null,
      "outputs": [
        {
          "output_type": "stream",
          "name": "stdout",
          "text": [
            "2.13\n"
          ]
        }
      ]
    },
    {
      "cell_type": "code",
      "source": [
        "import pandas as pd\n",
        "import json\n",
        "from collections import Counter\n",
        "\n",
        "\n",
        "def extract_and_count_medicine_names(row):\n",
        "    consultation_data = row['consultationData']\n",
        "    if 'medicines' in consultation_data:\n",
        "        return [medicine['medicineName'] for medicine in consultation_data['medicines']]\n",
        "    else:\n",
        "        return []\n",
        "\n",
        "\n",
        "df['medicineNames'] = df.apply(extract_and_count_medicine_names, axis=1)\n",
        "\n",
        "\n",
        "medicine_names_list = [medicine for sublist in df['medicineNames'] for medicine in sublist]\n",
        "\n",
        "medicine_name_counts = Counter(medicine_names_list)\n",
        "\n",
        "\n",
        "third_most_common_medicine = medicine_name_counts.most_common(3)[-1][0]\n",
        "\n",
        "\n",
        "print(third_most_common_medicine)\n"
      ],
      "metadata": {
        "colab": {
          "base_uri": "https://localhost:8080/"
        },
        "id": "TW0ZcfhWVXlO",
        "outputId": "d3b3f339-3f3e-4e5f-8bd0-67426dafd7f3"
      },
      "execution_count": null,
      "outputs": [
        {
          "output_type": "stream",
          "name": "stdout",
          "text": [
            "C\n"
          ]
        }
      ]
    },
    {
      "cell_type": "code",
      "source": [
        "import pandas as pd\n",
        "import json\n",
        "\n",
        "\n",
        "def count_active_inactive_medicines(row):\n",
        "    consultation_data = row['consultationData']\n",
        "    if 'medicines' in consultation_data:\n",
        "        active_count = sum(1 for medicine in consultation_data['medicines'] if medicine['isActive'])\n",
        "        inactive_count = sum(1 for medicine in consultation_data['medicines'] if not medicine['isActive'])\n",
        "    else:\n",
        "        active_count = 0\n",
        "        inactive_count = 0\n",
        "    return active_count, inactive_count\n",
        "\n",
        "\n",
        "df[['activeMedicines', 'inactiveMedicines']] = df.apply(count_active_inactive_medicines, axis=1, result_type='expand')\n",
        "\n",
        "total_active = df['activeMedicines'].sum()\n",
        "total_inactive = df['inactiveMedicines'].sum()\n",
        "\n",
        "\n",
        "percentage_active = (total_active / (total_active + total_inactive)) * 100\n",
        "percentage_inactive = (total_inactive / (total_active + total_inactive)) * 100\n",
        "\n",
        "\n",
        "print(f\"{percentage_active:.2f}, {percentage_inactive:.2f}\")\n"
      ],
      "metadata": {
        "colab": {
          "base_uri": "https://localhost:8080/"
        },
        "id": "36ynPCYxV_g0",
        "outputId": "5551c5f8-7e5b-426e-a036-a83c6ec8bb77"
      },
      "execution_count": null,
      "outputs": [
        {
          "output_type": "stream",
          "name": "stdout",
          "text": [
            "69.70, 30.30\n"
          ]
        }
      ]
    },
    {
      "cell_type": "code",
      "source": [
        "import pandas as pd\n",
        "\n",
        "\n",
        "def is_valid_indian_phone_number(phone_number):\n",
        "\n",
        "    phone_number = phone_number.replace(' ', '').replace('-', '')\n",
        "\n",
        "\n",
        "    if phone_number.startswith('+91'):\n",
        "        phone_number = phone_number[3:]  # Remove '+91 '\n",
        "    elif phone_number.startswith('91'):\n",
        "        phone_number = phone_number[2:]  # Remove '91'\n",
        "    else:\n",
        "        return False\n",
        "\n",
        "\n",
        "    if len(phone_number) != 10 or not phone_number.isdigit():\n",
        "        return False\n",
        "\n",
        "    if 6000000000 <= int(phone_number) <= 9999999999:\n",
        "        return True\n",
        "    else:\n",
        "        return False\n",
        "\n",
        "\n",
        "df['isValidMobile'] = df['phoneNumber'].apply(is_valid_indian_phone_number)\n",
        "\n",
        "\n",
        "valid_phone_count = df['isValidMobile'].sum()\n",
        "\n",
        "\n",
        "print(valid_phone_count)\n"
      ],
      "metadata": {
        "colab": {
          "base_uri": "https://localhost:8080/"
        },
        "id": "6CroCDEUWiEG",
        "outputId": "e2a4e388-8ec9-4ddc-c6bf-455025f4f5ad"
      },
      "execution_count": null,
      "outputs": [
        {
          "output_type": "stream",
          "name": "stdout",
          "text": [
            "6\n"
          ]
        }
      ]
    },
    {
      "cell_type": "code",
      "source": [
        "import pandas as pd\n",
        "from scipy.stats import pearsonr\n",
        "\n",
        "\n",
        "data = {\n",
        "    'consultationData': [\n",
        "        {'medicines': [{'medicineName': 'A'}, {'medicineName': 'B'}]},\n",
        "        {'medicines': [{'medicineName': 'C'}]},\n",
        "        {'medicines': []}\n",
        "    ],\n",
        "    'birthDate': ['1990-01-01', '1985-05-15', '1970-12-25']\n",
        "}\n",
        "df = pd.DataFrame(data)\n",
        "\n",
        "\n",
        "def count_prescribed_medicines(consultation_data):\n",
        "    if 'medicines' in consultation_data:\n",
        "        return len(consultation_data['medicines'])\n",
        "    else:\n",
        "        return 0\n",
        "\n",
        "\n",
        "df['prescribedMedicines'] = df['consultationData'].apply(count_prescribed_medicines)\n",
        "\n",
        "def calculate_age(birth_date):\n",
        "\n",
        "    return 2024 - int(birth_date[:4])\n",
        "\n",
        "\n",
        "df['age'] = df['birthDate'].apply(calculate_age)\n",
        "\n",
        "\n",
        "pearson_corr, _ = pearsonr(df['prescribedMedicines'], df['age'])\n",
        "\n",
        "\n",
        "pearson_corr_rounded = round(pearson_corr, 2)\n",
        "\n",
        "\n",
        "print(pearson_corr_rounded)\n"
      ],
      "metadata": {
        "colab": {
          "base_uri": "https://localhost:8080/"
        },
        "id": "LQtDpMCJXgTQ",
        "outputId": "16b946ad-aa17-455a-ad18-febc1a191020"
      },
      "execution_count": null,
      "outputs": [
        {
          "output_type": "stream",
          "name": "stdout",
          "text": [
            "-0.96\n"
          ]
        }
      ]
    },
    {
      "cell_type": "code",
      "source": [],
      "metadata": {
        "id": "7PE2WP-7Xotk"
      },
      "execution_count": null,
      "outputs": []
    }
  ]
}